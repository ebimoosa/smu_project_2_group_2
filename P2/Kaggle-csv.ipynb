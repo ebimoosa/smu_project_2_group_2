{
 "cells": [
  {
   "cell_type": "code",
   "execution_count": 17,
   "id": "6ad8fcbf",
   "metadata": {},
   "outputs": [],
   "source": [
    "import pandas as pd"
   ]
  },
  {
   "cell_type": "code",
   "execution_count": 20,
   "id": "c0bbff90",
   "metadata": {},
   "outputs": [
    {
     "data": {
      "text/html": [
       "<div>\n",
       "<style scoped>\n",
       "    .dataframe tbody tr th:only-of-type {\n",
       "        vertical-align: middle;\n",
       "    }\n",
       "\n",
       "    .dataframe tbody tr th {\n",
       "        vertical-align: top;\n",
       "    }\n",
       "\n",
       "    .dataframe thead th {\n",
       "        text-align: right;\n",
       "    }\n",
       "</style>\n",
       "<table border=\"1\" class=\"dataframe\">\n",
       "  <thead>\n",
       "    <tr style=\"text-align: right;\">\n",
       "      <th></th>\n",
       "      <th>index</th>\n",
       "      <th>name</th>\n",
       "      <th>platform</th>\n",
       "      <th>release_date</th>\n",
       "      <th>summary</th>\n",
       "      <th>meta_score</th>\n",
       "      <th>user_review</th>\n",
       "    </tr>\n",
       "  </thead>\n",
       "  <tbody>\n",
       "    <tr>\n",
       "      <th>0</th>\n",
       "      <td>0</td>\n",
       "      <td>The Legend of Zelda: Ocarina of Time</td>\n",
       "      <td>Nintendo 64</td>\n",
       "      <td>November 23, 1998</td>\n",
       "      <td>As a young boy, Link is tricked by Ganondorf, ...</td>\n",
       "      <td>99</td>\n",
       "      <td>9.1</td>\n",
       "    </tr>\n",
       "    <tr>\n",
       "      <th>1</th>\n",
       "      <td>1</td>\n",
       "      <td>Tony Hawk's Pro Skater 2</td>\n",
       "      <td>PlayStation</td>\n",
       "      <td>September 20, 2000</td>\n",
       "      <td>As most major publishers' development efforts ...</td>\n",
       "      <td>98</td>\n",
       "      <td>7.4</td>\n",
       "    </tr>\n",
       "    <tr>\n",
       "      <th>2</th>\n",
       "      <td>2</td>\n",
       "      <td>Grand Theft Auto IV</td>\n",
       "      <td>PlayStation 3</td>\n",
       "      <td>April 29, 2008</td>\n",
       "      <td>[Metacritic's 2008 PS3 Game of the Year; Also ...</td>\n",
       "      <td>98</td>\n",
       "      <td>7.7</td>\n",
       "    </tr>\n",
       "    <tr>\n",
       "      <th>3</th>\n",
       "      <td>3</td>\n",
       "      <td>SoulCalibur</td>\n",
       "      <td>Dreamcast</td>\n",
       "      <td>September 8, 1999</td>\n",
       "      <td>This is a tale of souls and swords, transcendi...</td>\n",
       "      <td>98</td>\n",
       "      <td>8.4</td>\n",
       "    </tr>\n",
       "    <tr>\n",
       "      <th>4</th>\n",
       "      <td>5</td>\n",
       "      <td>Super Mario Galaxy</td>\n",
       "      <td>Wii</td>\n",
       "      <td>November 12, 2007</td>\n",
       "      <td>[Metacritic's 2007 Wii Game of the Year] The u...</td>\n",
       "      <td>97</td>\n",
       "      <td>9.1</td>\n",
       "    </tr>\n",
       "  </tbody>\n",
       "</table>\n",
       "</div>"
      ],
      "text/plain": [
       "   index                                  name        platform  \\\n",
       "0      0  The Legend of Zelda: Ocarina of Time     Nintendo 64   \n",
       "1      1              Tony Hawk's Pro Skater 2     PlayStation   \n",
       "2      2                   Grand Theft Auto IV   PlayStation 3   \n",
       "3      3                           SoulCalibur       Dreamcast   \n",
       "4      5                    Super Mario Galaxy             Wii   \n",
       "\n",
       "         release_date                                            summary  \\\n",
       "0   November 23, 1998  As a young boy, Link is tricked by Ganondorf, ...   \n",
       "1  September 20, 2000  As most major publishers' development efforts ...   \n",
       "2      April 29, 2008  [Metacritic's 2008 PS3 Game of the Year; Also ...   \n",
       "3   September 8, 1999  This is a tale of souls and swords, transcendi...   \n",
       "4   November 12, 2007  [Metacritic's 2007 Wii Game of the Year] The u...   \n",
       "\n",
       "   meta_score user_review  \n",
       "0          99         9.1  \n",
       "1          98         7.4  \n",
       "2          98         7.7  \n",
       "3          98         8.4  \n",
       "4          97         9.1  "
      ]
     },
     "execution_count": 20,
     "metadata": {},
     "output_type": "execute_result"
    }
   ],
   "source": [
    "csv_path = \"../P2/kaggle_scores_clean.csv\"\n",
    "kaggle_df = pd.read_csv(csv_path, encoding=\"utf-8\")\n",
    "kaggle_df.head()"
   ]
  },
  {
   "cell_type": "code",
   "execution_count": 21,
   "id": "6a0fef0e",
   "metadata": {},
   "outputs": [
    {
     "name": "stdout",
     "output_type": "stream",
     "text": [
      "<class 'pandas.core.frame.DataFrame'>\n",
      "RangeIndex: 12254 entries, 0 to 12253\n",
      "Data columns (total 7 columns):\n",
      " #   Column        Non-Null Count  Dtype \n",
      "---  ------        --------------  ----- \n",
      " 0   index         12254 non-null  int64 \n",
      " 1   name          12254 non-null  object\n",
      " 2   platform      12254 non-null  object\n",
      " 3   release_date  12254 non-null  object\n",
      " 4   summary       12153 non-null  object\n",
      " 5   meta_score    12254 non-null  int64 \n",
      " 6   user_review   12254 non-null  object\n",
      "dtypes: int64(2), object(5)\n",
      "memory usage: 670.3+ KB\n"
     ]
    }
   ],
   "source": [
    "kaggle_df.info()"
   ]
  },
  {
   "cell_type": "code",
   "execution_count": 22,
   "id": "2af8738d",
   "metadata": {},
   "outputs": [
    {
     "name": "stdout",
     "output_type": "stream",
     "text": [
      "<class 'pandas.core.frame.DataFrame'>\n",
      "RangeIndex: 12254 entries, 0 to 12253\n",
      "Data columns (total 8 columns):\n",
      " #   Column        Non-Null Count  Dtype \n",
      "---  ------        --------------  ----- \n",
      " 0   level_0       12254 non-null  int64 \n",
      " 1   index         12254 non-null  int64 \n",
      " 2   name          12254 non-null  object\n",
      " 3   platform      12254 non-null  object\n",
      " 4   release_date  12254 non-null  object\n",
      " 5   summary       12153 non-null  object\n",
      " 6   meta_score    12254 non-null  int64 \n",
      " 7   user_review   12254 non-null  object\n",
      "dtypes: int64(3), object(5)\n",
      "memory usage: 766.0+ KB\n"
     ]
    }
   ],
   "source": [
    "df2 = kaggle_df.drop_duplicates(subset=[\"name\"]).reset_index()\n",
    "df2.info()"
   ]
  },
  {
   "cell_type": "code",
   "execution_count": 23,
   "id": "9c1f5913",
   "metadata": {},
   "outputs": [
    {
     "data": {
      "text/plain": [
       "Index(['level_0', 'index', 'name', 'platform', 'release_date', 'summary',\n",
       "       'meta_score', 'user_review'],\n",
       "      dtype='object')"
      ]
     },
     "execution_count": 23,
     "metadata": {},
     "output_type": "execute_result"
    }
   ],
   "source": [
    "df2.columns"
   ]
  },
  {
   "cell_type": "code",
   "execution_count": 48,
   "id": "ea93cbb0",
   "metadata": {},
   "outputs": [
    {
     "data": {
      "text/html": [
       "<div>\n",
       "<style scoped>\n",
       "    .dataframe tbody tr th:only-of-type {\n",
       "        vertical-align: middle;\n",
       "    }\n",
       "\n",
       "    .dataframe tbody tr th {\n",
       "        vertical-align: top;\n",
       "    }\n",
       "\n",
       "    .dataframe thead th {\n",
       "        text-align: right;\n",
       "    }\n",
       "</style>\n",
       "<table border=\"1\" class=\"dataframe\">\n",
       "  <thead>\n",
       "    <tr style=\"text-align: right;\">\n",
       "      <th></th>\n",
       "      <th>name</th>\n",
       "      <th>platform</th>\n",
       "      <th>release_date</th>\n",
       "      <th>meta_score</th>\n",
       "      <th>user_review</th>\n",
       "    </tr>\n",
       "  </thead>\n",
       "  <tbody>\n",
       "    <tr>\n",
       "      <th>0</th>\n",
       "      <td>The Legend of Zelda: Ocarina of Time</td>\n",
       "      <td>Nintendo 64</td>\n",
       "      <td>November 23, 1998</td>\n",
       "      <td>99</td>\n",
       "      <td>9.1</td>\n",
       "    </tr>\n",
       "    <tr>\n",
       "      <th>1</th>\n",
       "      <td>Tony Hawk's Pro Skater 2</td>\n",
       "      <td>PlayStation</td>\n",
       "      <td>September 20, 2000</td>\n",
       "      <td>98</td>\n",
       "      <td>7.4</td>\n",
       "    </tr>\n",
       "    <tr>\n",
       "      <th>2</th>\n",
       "      <td>Grand Theft Auto IV</td>\n",
       "      <td>PlayStation 3</td>\n",
       "      <td>April 29, 2008</td>\n",
       "      <td>98</td>\n",
       "      <td>7.7</td>\n",
       "    </tr>\n",
       "    <tr>\n",
       "      <th>3</th>\n",
       "      <td>SoulCalibur</td>\n",
       "      <td>Dreamcast</td>\n",
       "      <td>September 8, 1999</td>\n",
       "      <td>98</td>\n",
       "      <td>8.4</td>\n",
       "    </tr>\n",
       "    <tr>\n",
       "      <th>4</th>\n",
       "      <td>Super Mario Galaxy</td>\n",
       "      <td>Wii</td>\n",
       "      <td>November 12, 2007</td>\n",
       "      <td>97</td>\n",
       "      <td>9.1</td>\n",
       "    </tr>\n",
       "  </tbody>\n",
       "</table>\n",
       "</div>"
      ],
      "text/plain": [
       "                                   name        platform        release_date  \\\n",
       "0  The Legend of Zelda: Ocarina of Time     Nintendo 64   November 23, 1998   \n",
       "1              Tony Hawk's Pro Skater 2     PlayStation  September 20, 2000   \n",
       "2                   Grand Theft Auto IV   PlayStation 3      April 29, 2008   \n",
       "3                           SoulCalibur       Dreamcast   September 8, 1999   \n",
       "4                    Super Mario Galaxy             Wii   November 12, 2007   \n",
       "\n",
       "   meta_score user_review  \n",
       "0          99         9.1  \n",
       "1          98         7.4  \n",
       "2          98         7.7  \n",
       "3          98         8.4  \n",
       "4          97         9.1  "
      ]
     },
     "execution_count": 48,
     "metadata": {},
     "output_type": "execute_result"
    }
   ],
   "source": [
    "df5 = df2.drop(['index', 'level_0', 'summary'], axis=1)\n",
    "df5.head()"
   ]
  },
  {
   "cell_type": "code",
   "execution_count": 49,
   "id": "aabcfdb6",
   "metadata": {},
   "outputs": [
    {
     "data": {
      "text/plain": [
       "Index(['name', 'platform', 'release_date', 'meta_score', 'user_review'], dtype='object')"
      ]
     },
     "execution_count": 49,
     "metadata": {},
     "output_type": "execute_result"
    }
   ],
   "source": [
    "df5.columns"
   ]
  },
  {
   "cell_type": "code",
   "execution_count": 50,
   "id": "634e13e6",
   "metadata": {},
   "outputs": [
    {
     "name": "stdout",
     "output_type": "stream",
     "text": [
      "<class 'pandas.core.frame.DataFrame'>\n",
      "RangeIndex: 12254 entries, 0 to 12253\n",
      "Data columns (total 5 columns):\n",
      " #   Column        Non-Null Count  Dtype \n",
      "---  ------        --------------  ----- \n",
      " 0   name          12254 non-null  object\n",
      " 1   platform      12254 non-null  object\n",
      " 2   release_date  12254 non-null  object\n",
      " 3   meta_score    12254 non-null  int64 \n",
      " 4   user_review   12254 non-null  object\n",
      "dtypes: int64(1), object(4)\n",
      "memory usage: 478.8+ KB\n"
     ]
    }
   ],
   "source": [
    "df5.info()"
   ]
  },
  {
   "cell_type": "code",
   "execution_count": 59,
   "id": "d719253d",
   "metadata": {},
   "outputs": [
    {
     "name": "stdout",
     "output_type": "stream",
     "text": [
      "<class 'pandas.core.frame.DataFrame'>\n",
      "Int64Index: 11265 entries, 0 to 12253\n",
      "Data columns (total 5 columns):\n",
      " #   Column        Non-Null Count  Dtype \n",
      "---  ------        --------------  ----- \n",
      " 0   name          11265 non-null  object\n",
      " 1   platform      11265 non-null  object\n",
      " 2   release_date  11265 non-null  object\n",
      " 3   meta_score    11265 non-null  int64 \n",
      " 4   user_review   11265 non-null  object\n",
      "dtypes: int64(1), object(4)\n",
      "memory usage: 528.0+ KB\n"
     ]
    }
   ],
   "source": [
    "#df5.loc[df5['user_review']=='tbd']\n",
    "df9 = df5[df5.user_review != 'tbd']\n",
    "df9.info()"
   ]
  },
  {
   "cell_type": "code",
   "execution_count": 60,
   "id": "69af886e",
   "metadata": {},
   "outputs": [],
   "source": [
    "df9.to_csv(\"kaggle_games_cleaner.csv\", index=False)"
   ]
  },
  {
   "cell_type": "code",
   "execution_count": null,
   "id": "2d77dd47",
   "metadata": {},
   "outputs": [],
   "source": []
  },
  {
   "cell_type": "code",
   "execution_count": null,
   "id": "6079b4c6",
   "metadata": {},
   "outputs": [],
   "source": []
  },
  {
   "cell_type": "code",
   "execution_count": null,
   "id": "f4068db6",
   "metadata": {},
   "outputs": [],
   "source": []
  },
  {
   "cell_type": "code",
   "execution_count": 39,
   "id": "8472d0d7",
   "metadata": {},
   "outputs": [
    {
     "data": {
      "text/html": [
       "<div>\n",
       "<style scoped>\n",
       "    .dataframe tbody tr th:only-of-type {\n",
       "        vertical-align: middle;\n",
       "    }\n",
       "\n",
       "    .dataframe tbody tr th {\n",
       "        vertical-align: top;\n",
       "    }\n",
       "\n",
       "    .dataframe thead th {\n",
       "        text-align: right;\n",
       "    }\n",
       "</style>\n",
       "<table border=\"1\" class=\"dataframe\">\n",
       "  <thead>\n",
       "    <tr style=\"text-align: right;\">\n",
       "      <th></th>\n",
       "      <th>Rank</th>\n",
       "      <th>Name</th>\n",
       "      <th>Platform</th>\n",
       "      <th>Year</th>\n",
       "      <th>Genre</th>\n",
       "      <th>Publisher</th>\n",
       "      <th>NA_Sales</th>\n",
       "      <th>EU_Sales</th>\n",
       "      <th>JP_Sales</th>\n",
       "      <th>Other_Sales</th>\n",
       "      <th>Global_Sales</th>\n",
       "    </tr>\n",
       "  </thead>\n",
       "  <tbody>\n",
       "    <tr>\n",
       "      <th>0</th>\n",
       "      <td>1</td>\n",
       "      <td>Wii Sports</td>\n",
       "      <td>Wii</td>\n",
       "      <td>2006.0</td>\n",
       "      <td>Sports</td>\n",
       "      <td>Nintendo</td>\n",
       "      <td>41.49</td>\n",
       "      <td>29.02</td>\n",
       "      <td>3.77</td>\n",
       "      <td>8.46</td>\n",
       "      <td>82.74</td>\n",
       "    </tr>\n",
       "    <tr>\n",
       "      <th>1</th>\n",
       "      <td>2</td>\n",
       "      <td>Super Mario Bros.</td>\n",
       "      <td>NES</td>\n",
       "      <td>1985.0</td>\n",
       "      <td>Platform</td>\n",
       "      <td>Nintendo</td>\n",
       "      <td>29.08</td>\n",
       "      <td>3.58</td>\n",
       "      <td>6.81</td>\n",
       "      <td>0.77</td>\n",
       "      <td>40.24</td>\n",
       "    </tr>\n",
       "    <tr>\n",
       "      <th>2</th>\n",
       "      <td>3</td>\n",
       "      <td>Mario Kart Wii</td>\n",
       "      <td>Wii</td>\n",
       "      <td>2008.0</td>\n",
       "      <td>Racing</td>\n",
       "      <td>Nintendo</td>\n",
       "      <td>15.85</td>\n",
       "      <td>12.88</td>\n",
       "      <td>3.79</td>\n",
       "      <td>3.31</td>\n",
       "      <td>35.82</td>\n",
       "    </tr>\n",
       "    <tr>\n",
       "      <th>3</th>\n",
       "      <td>4</td>\n",
       "      <td>Wii Sports Resort</td>\n",
       "      <td>Wii</td>\n",
       "      <td>2009.0</td>\n",
       "      <td>Sports</td>\n",
       "      <td>Nintendo</td>\n",
       "      <td>15.75</td>\n",
       "      <td>11.01</td>\n",
       "      <td>3.28</td>\n",
       "      <td>2.96</td>\n",
       "      <td>33.00</td>\n",
       "    </tr>\n",
       "    <tr>\n",
       "      <th>4</th>\n",
       "      <td>5</td>\n",
       "      <td>Pokemon Red/Pokemon Blue</td>\n",
       "      <td>GB</td>\n",
       "      <td>1996.0</td>\n",
       "      <td>Role-Playing</td>\n",
       "      <td>Nintendo</td>\n",
       "      <td>11.27</td>\n",
       "      <td>8.89</td>\n",
       "      <td>10.22</td>\n",
       "      <td>1.00</td>\n",
       "      <td>31.37</td>\n",
       "    </tr>\n",
       "  </tbody>\n",
       "</table>\n",
       "</div>"
      ],
      "text/plain": [
       "   Rank                      Name Platform    Year         Genre Publisher  \\\n",
       "0     1                Wii Sports      Wii  2006.0        Sports  Nintendo   \n",
       "1     2         Super Mario Bros.      NES  1985.0      Platform  Nintendo   \n",
       "2     3            Mario Kart Wii      Wii  2008.0        Racing  Nintendo   \n",
       "3     4         Wii Sports Resort      Wii  2009.0        Sports  Nintendo   \n",
       "4     5  Pokemon Red/Pokemon Blue       GB  1996.0  Role-Playing  Nintendo   \n",
       "\n",
       "   NA_Sales  EU_Sales  JP_Sales  Other_Sales  Global_Sales  \n",
       "0     41.49     29.02      3.77         8.46         82.74  \n",
       "1     29.08      3.58      6.81         0.77         40.24  \n",
       "2     15.85     12.88      3.79         3.31         35.82  \n",
       "3     15.75     11.01      3.28         2.96         33.00  \n",
       "4     11.27      8.89     10.22         1.00         31.37  "
      ]
     },
     "execution_count": 39,
     "metadata": {},
     "output_type": "execute_result"
    }
   ],
   "source": [
    "csv_path = \"../P2/vgsales_kaggle.csv\"\n",
    "kaggle_df2 = pd.read_csv(csv_path, encoding=\"utf-8\")\n",
    "kaggle_df2.head()"
   ]
  },
  {
   "cell_type": "code",
   "execution_count": null,
   "id": "572455e6",
   "metadata": {},
   "outputs": [],
   "source": []
  },
  {
   "cell_type": "code",
   "execution_count": 40,
   "id": "78930bd4",
   "metadata": {},
   "outputs": [
    {
     "name": "stdout",
     "output_type": "stream",
     "text": [
      "<class 'pandas.core.frame.DataFrame'>\n",
      "RangeIndex: 11493 entries, 0 to 11492\n",
      "Data columns (total 12 columns):\n",
      " #   Column        Non-Null Count  Dtype  \n",
      "---  ------        --------------  -----  \n",
      " 0   index         11493 non-null  int64  \n",
      " 1   Rank          11493 non-null  int64  \n",
      " 2   Name          11493 non-null  object \n",
      " 3   Platform      11493 non-null  object \n",
      " 4   Year          11328 non-null  float64\n",
      " 5   Genre         11493 non-null  object \n",
      " 6   Publisher     11442 non-null  object \n",
      " 7   NA_Sales      11493 non-null  float64\n",
      " 8   EU_Sales      11493 non-null  float64\n",
      " 9   JP_Sales      11493 non-null  float64\n",
      " 10  Other_Sales   11493 non-null  float64\n",
      " 11  Global_Sales  11493 non-null  float64\n",
      "dtypes: float64(6), int64(2), object(4)\n",
      "memory usage: 1.1+ MB\n"
     ]
    }
   ],
   "source": [
    "df3 = kaggle_df2.drop_duplicates(subset=[\"Name\"]).reset_index()\n",
    "df3.info()"
   ]
  },
  {
   "cell_type": "code",
   "execution_count": 41,
   "id": "2984e878",
   "metadata": {},
   "outputs": [
    {
     "data": {
      "text/plain": [
       "Index(['index', 'Rank', 'Name', 'Platform', 'Year', 'Genre', 'Publisher',\n",
       "       'NA_Sales', 'EU_Sales', 'JP_Sales', 'Other_Sales', 'Global_Sales'],\n",
       "      dtype='object')"
      ]
     },
     "execution_count": 41,
     "metadata": {},
     "output_type": "execute_result"
    }
   ],
   "source": [
    "df3.columns"
   ]
  },
  {
   "cell_type": "code",
   "execution_count": 42,
   "id": "4ea83a92",
   "metadata": {},
   "outputs": [
    {
     "name": "stdout",
     "output_type": "stream",
     "text": [
      "<class 'pandas.core.frame.DataFrame'>\n",
      "RangeIndex: 11493 entries, 0 to 11492\n",
      "Data columns (total 11 columns):\n",
      " #   Column        Non-Null Count  Dtype  \n",
      "---  ------        --------------  -----  \n",
      " 0   Rank          11493 non-null  int64  \n",
      " 1   Name          11493 non-null  object \n",
      " 2   Platform      11493 non-null  object \n",
      " 3   Year          11328 non-null  float64\n",
      " 4   Genre         11493 non-null  object \n",
      " 5   Publisher     11442 non-null  object \n",
      " 6   NA_Sales      11493 non-null  float64\n",
      " 7   EU_Sales      11493 non-null  float64\n",
      " 8   JP_Sales      11493 non-null  float64\n",
      " 9   Other_Sales   11493 non-null  float64\n",
      " 10  Global_Sales  11493 non-null  float64\n",
      "dtypes: float64(6), int64(1), object(4)\n",
      "memory usage: 987.8+ KB\n"
     ]
    }
   ],
   "source": [
    "df6 = df3.drop(['index'], axis=1)\n",
    "df6.info()"
   ]
  },
  {
   "cell_type": "code",
   "execution_count": 56,
   "id": "999b5c1e",
   "metadata": {},
   "outputs": [
    {
     "name": "stdout",
     "output_type": "stream",
     "text": [
      "<class 'pandas.core.frame.DataFrame'>\n",
      "Int64Index: 11293 entries, 0 to 11492\n",
      "Data columns (total 11 columns):\n",
      " #   Column        Non-Null Count  Dtype  \n",
      "---  ------        --------------  -----  \n",
      " 0   rank          11293 non-null  int64  \n",
      " 1   name          11293 non-null  object \n",
      " 2   platform      11293 non-null  object \n",
      " 3   year          11293 non-null  float64\n",
      " 4   genre         11293 non-null  object \n",
      " 5   publisher     11293 non-null  object \n",
      " 6   na_sales      11293 non-null  float64\n",
      " 7   eu_sales      11293 non-null  float64\n",
      " 8   jp_sales      11293 non-null  float64\n",
      " 9   other_sales   11293 non-null  float64\n",
      " 10  global_sales  11293 non-null  float64\n",
      "dtypes: float64(6), int64(1), object(4)\n",
      "memory usage: 1.0+ MB\n"
     ]
    }
   ],
   "source": [
    "df6 = df6.dropna(subset = [\"year\", \"publisher\"])\n",
    "df6.info()"
   ]
  },
  {
   "cell_type": "code",
   "execution_count": 54,
   "id": "8eca0a1a",
   "metadata": {},
   "outputs": [
    {
     "data": {
      "text/plain": [
       "Index(['rank', 'name', 'platform', 'year', 'genre', 'publisher', 'na_sales',\n",
       "       'eu_sales', 'jp_sales', 'other_sales', 'global_sales'],\n",
       "      dtype='object')"
      ]
     },
     "execution_count": 54,
     "metadata": {},
     "output_type": "execute_result"
    }
   ],
   "source": [
    "df6.columns"
   ]
  },
  {
   "cell_type": "code",
   "execution_count": 44,
   "id": "4962e05a",
   "metadata": {},
   "outputs": [],
   "source": [
    "df6.rename(columns={'Rank':'rank', 'Name':'name', 'Platform':'platform', 'Year':'year', 'Genre':'genre', 'Publisher':'publisher',\n",
    "                    'NA_Sales':'na_sales', 'EU_Sales':'eu_sales', 'JP_Sales':'jp_sales', 'Other_Sales':'other_sales', \n",
    "                    'Global_Sales':'global_sales'}, inplace=True)\n",
    "                    \n",
    "                    \n",
    "                    \n",
    "                    "
   ]
  },
  {
   "cell_type": "code",
   "execution_count": 45,
   "id": "69b98a6b",
   "metadata": {},
   "outputs": [
    {
     "data": {
      "text/plain": [
       "Index(['rank', 'name', 'platform', 'year', 'genre', 'publisher', 'na_sales',\n",
       "       'eu_sales', 'jp_sales', 'other_sales', 'global_sales'],\n",
       "      dtype='object')"
      ]
     },
     "execution_count": 45,
     "metadata": {},
     "output_type": "execute_result"
    }
   ],
   "source": [
    "df6.columns"
   ]
  },
  {
   "cell_type": "code",
   "execution_count": 55,
   "id": "6e1f7294",
   "metadata": {},
   "outputs": [
    {
     "name": "stdout",
     "output_type": "stream",
     "text": [
      "<class 'pandas.core.frame.DataFrame'>\n",
      "RangeIndex: 11493 entries, 0 to 11492\n",
      "Data columns (total 11 columns):\n",
      " #   Column        Non-Null Count  Dtype  \n",
      "---  ------        --------------  -----  \n",
      " 0   rank          11493 non-null  int64  \n",
      " 1   name          11493 non-null  object \n",
      " 2   platform      11493 non-null  object \n",
      " 3   year          11328 non-null  float64\n",
      " 4   genre         11493 non-null  object \n",
      " 5   publisher     11442 non-null  object \n",
      " 6   na_sales      11493 non-null  float64\n",
      " 7   eu_sales      11493 non-null  float64\n",
      " 8   jp_sales      11493 non-null  float64\n",
      " 9   other_sales   11493 non-null  float64\n",
      " 10  global_sales  11493 non-null  float64\n",
      "dtypes: float64(6), int64(1), object(4)\n",
      "memory usage: 987.8+ KB\n"
     ]
    }
   ],
   "source": [
    "df6.info()"
   ]
  },
  {
   "cell_type": "code",
   "execution_count": 57,
   "id": "267a6117",
   "metadata": {},
   "outputs": [],
   "source": [
    "df6.to_csv(\"kaggle_scores_clean.csv\", index=False)"
   ]
  },
  {
   "cell_type": "code",
   "execution_count": null,
   "id": "2bedce8a",
   "metadata": {},
   "outputs": [],
   "source": []
  }
 ],
 "metadata": {
  "kernelspec": {
   "display_name": "Python 3",
   "language": "python",
   "name": "python3"
  },
  "language_info": {
   "codemirror_mode": {
    "name": "ipython",
    "version": 3
   },
   "file_extension": ".py",
   "mimetype": "text/x-python",
   "name": "python",
   "nbconvert_exporter": "python",
   "pygments_lexer": "ipython3",
   "version": "3.8.8"
  }
 },
 "nbformat": 4,
 "nbformat_minor": 5
}
