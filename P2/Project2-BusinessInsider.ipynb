{
 "cells": [
  {
   "cell_type": "code",
   "execution_count": 50,
   "id": "01a4a4d6",
   "metadata": {},
   "outputs": [],
   "source": [
    "import pandas as pd\n",
    "from splinter import Browser\n",
    "from bs4 import BeautifulSoup as bs\n",
    "from webdriver_manager.chrome import ChromeDriverManager\n",
    "from bs4 import BeautifulSoup\n",
    "import requests\n",
    "import os"
   ]
  },
  {
   "cell_type": "code",
   "execution_count": 51,
   "id": "179740da",
   "metadata": {},
   "outputs": [
    {
     "data": {
      "text/plain": [
       "'<!DOCTYPE html>\\n<html lang=\"en-US\">\\n\\n<head>\\n  <title>Top 50 Video Games of All Time, According to Metacritic</title>\\n\\n  <script>function createPerformanceMark(e){void 0!==window.performance&&void 0!==window.performance.mark&&performance.mark(e)}function createPerformanceMeasure(e,r,o){void 0!==window.performance&&void 0!==window.performance.measure&&performance.measure(e,r,o)}</script>  <!-- Speedcurve, LUX - Start -->\\n  <script>\\n  LUX=function(){var e=\"undefined\"!=typeof LUX&&void 0!==LUX.gaMarks?LUX.gaMarks:[],n=\"undefined\"!=typeof LUX&&void 0!==LUX.gaMeasures?LUX.gaMeasures:[],t=\"LUX_start\",r=window.performance,a=\"undefined\"!=typeof LUX&&LUX.ns?LUX.ns:Date.now?Date.now():+new Date;function u(){if(r){if(r.now)return r.now();if(r.webkitNow)return r.now();if(r.msNow)return r.now();if(r.mozNow)return r.now()}return(Date.now?Date.now():+new Date)-a}function o(n){return function(e,n){for(i=n.length-1;i>=0;i--){var t=n[i];if(e===t.name)return t}return}(n,function(){if(r){if(r.getEntriesByT'"
      ]
     },
     "execution_count": 51,
     "metadata": {},
     "output_type": "execute_result"
    }
   ],
   "source": [
    "url = 'https://www.businessinsider.com/best-video-games-metacritic-2017-11#50-world-of-goo-2'\n",
    "response = requests.get(url)\n",
    "html = response.text\n",
    "html[0:1000]"
   ]
  },
  {
   "cell_type": "code",
   "execution_count": 52,
   "id": "ac3503b3",
   "metadata": {},
   "outputs": [],
   "source": [
    "game_soup = bs(html, 'lxml')"
   ]
  },
  {
   "cell_type": "code",
   "execution_count": 65,
   "id": "c421f429",
   "metadata": {},
   "outputs": [
    {
     "name": "stdout",
     "output_type": "stream",
     "text": [
      "<div class=\"slide first-slide\" data-e2e-name=\"slide-1\" data-slide=\"\" data-slide-anchor=\"#one-quick-disclaimer-1\" data-slide-number=\"1\" data-slide-title=\"One quick disclaimer!\" id=\"one-quick-disclaimer-1\">\n",
      "<div class=\"slide-layout clearfix\">\n",
      "<div class=\"slide-title clearfix\" data-e2e-name=\"slide-title\">\n",
      "<h2 class=\"slide-title-text\" data-toc-label=\"[object Object]\">One quick disclaimer!</h2>\n",
      "</div>\n",
      "<figure class=\"figure image-figure-image\" data-e2e-name=\"image-figure-image\" data-media-container=\"image\" data-type=\"img\">\n",
      "<div class=\"lazy-holder\" style=\"padding-top: calc(100% * 1427 / 2048)\">\n",
      "<img alt=\"Super Mario\" class=\"lazy-image\" data-content-type=\"image/jpeg\" data-srcs='{\"https://i.insider.com/5808b9a1c524024d008b5be5\":{\"contentType\":\"image/jpeg\",\"aspectRatioW\":2048,\"aspectRatioH\":1427}}' src=\"data:image/svg+xml,%3Csvg xmlns='http://www.w3.org/2000/svg' viewBox='0 0 1 1'%3E%3C/svg%3E\"/>\n",
      "<noscript>\n",
      "<img src=\"https://i.insider.com/5808b9a1c524024d008b5be5?width=600&amp;format=jpeg&amp;auto=webp\"/>\n",
      "</noscript>\n",
      "</div>\n",
      "<span class=\"image-source-only\">\n",
      "<span class=\"image-source headline-regular\" data-e2e-name=\"image-source\">\n",
      "                                                  Nintendo\n",
      "                                                </span>\n",
      "</span>\n",
      "</figure>\n",
      "<p>We made one small change: Since there are a handful of duplicates on the list (multiple versions of the same game, released on multiple platforms), we're using the highest-ranked version of the game to make room for a handful of games that wouldn't have otherwise made the list.</p><p><strong>Without further ado, these are the 50 best video games of all time:</strong></p>\n",
      "<div class=\"slide-options\">\n",
      "</div>\n",
      "</div>\n",
      "</div>\n"
     ]
    }
   ],
   "source": [
    "game_list = game_soup.find_all(\"div\", {\"class\": \"slide\"})\n",
    "game = game_list[0]\n",
    "print(game)"
   ]
  },
  {
   "cell_type": "code",
   "execution_count": 72,
   "id": "2c6b2f47",
   "metadata": {},
   "outputs": [
    {
     "data": {
      "text/plain": [
       "<div class=\"slide-layout clearfix\">\n",
       "<div class=\"slide-title clearfix\" data-e2e-name=\"slide-title\">\n",
       "<h2 class=\"slide-title-text\" data-toc-label=\"[object Object]\">50. \"World of Goo\"</h2>\n",
       "</div>\n",
       "<figure class=\"figure image-figure-image\" data-e2e-name=\"image-figure-image\" data-media-container=\"image\" data-type=\"img\">\n",
       "<div class=\"lazy-holder\" style=\"padding-top: calc(100% * 1080 / 1920)\">\n",
       "<img alt=\"World of Goo\" class=\"lazy-image\" data-content-type=\"image/jpeg\" data-srcs='{\"https://i.insider.com/58c1a1de6e200443678b4987\":{\"contentType\":\"image/jpeg\",\"aspectRatioW\":16,\"aspectRatioH\":9}}' src=\"data:image/svg+xml,%3Csvg xmlns='http://www.w3.org/2000/svg' viewBox='0 0 1 1'%3E%3C/svg%3E\"/>\n",
       "<noscript>\n",
       "<img src=\"https://i.insider.com/58c1a1de6e200443678b4987?width=600&amp;format=jpeg&amp;auto=webp\"/>\n",
       "</noscript>\n",
       "</div>\n",
       "<span class=\"image-source-only\">\n",
       "<span class=\"image-source headline-regular\" data-e2e-name=\"image-source\">\n",
       "                                                  2D Boy\n",
       "                                                </span>\n",
       "</span>\n",
       "</figure>\n",
       "<p><strong>Critic score:</strong> 94/100</p><p><strong>User score:</strong> 8.8/10</p><p><strong>Plot summary (<a data-analytics-module=\"body_link\" href=\"http://www.metacritic.com/game/wii/world-of-goo\">from Metacritic</a>):</strong> \"'World of Goo' is a physics based puzzle / construction game. The millions of Goo Balls that live in the beautiful 'World of Goo' don't know that they are in a game, or that they are extremely delicious.\"</p><p><strong>Platforms:</strong> Wii, PC, OS X, Linux, iOS, Android, BlackBerry OS, Nintendo Switch</p><p><strong><a data-analytics-module=\"body_link\" href=\"https://play.google.com/store/apps/details?id=com.twodboy.worldofgoofull&amp;hl=en_US\">Buy it here &gt;&gt;</a></strong></p>\n",
       "<div class=\"slide-options\">\n",
       "</div>\n",
       "</div>"
      ]
     },
     "execution_count": 72,
     "metadata": {},
     "output_type": "execute_result"
    }
   ],
   "source": [
    "games = game_soup.find_all(\"div\", {\"class\": \"slide-layout clearfix\"})\n",
    "game = games[1]\n",
    "game"
   ]
  },
  {
   "cell_type": "code",
   "execution_count": 125,
   "id": "71432d8c",
   "metadata": {},
   "outputs": [
    {
     "data": {
      "text/plain": [
       "'The Legend of Zelda: Ocarina of Time'"
      ]
     },
     "execution_count": 125,
     "metadata": {},
     "output_type": "execute_result"
    }
   ],
   "source": [
    "name = game.find(\"h2\", {\"class\": \"slide-title-text\"}).text\n",
    "name = name[4:-1]\n",
    "name"
   ]
  },
  {
   "cell_type": "code",
   "execution_count": 109,
   "id": "d01c6088",
   "metadata": {},
   "outputs": [
    {
     "data": {
      "text/plain": [
       "'\"The Legend of Zelda: Ocarina of Time\"'"
      ]
     },
     "execution_count": 109,
     "metadata": {},
     "output_type": "execute_result"
    }
   ],
   "source": [
    "name = game.find(\"h2\", {\"class\": \"slide-title-text\"}).text[3:]\n",
    "name"
   ]
  },
  {
   "cell_type": "code",
   "execution_count": 94,
   "id": "d48625e3",
   "metadata": {},
   "outputs": [
    {
     "data": {
      "text/plain": [
       "'94/100'"
      ]
     },
     "execution_count": 94,
     "metadata": {},
     "output_type": "execute_result"
    }
   ],
   "source": [
    "critic = game.find(\"p\").text.strip(\"Critic score:\")\n",
    "critic = critic[-6:]\n",
    "critic"
   ]
  },
  {
   "cell_type": "code",
   "execution_count": 110,
   "id": "16161a18",
   "metadata": {},
   "outputs": [
    {
     "data": {
      "text/plain": [
       "'99/100'"
      ]
     },
     "execution_count": 110,
     "metadata": {},
     "output_type": "execute_result"
    }
   ],
   "source": [
    "critic = game.find(\"p\").text.strip(\"Critic score:\")[-6:]\n",
    "critic"
   ]
  },
  {
   "cell_type": "code",
   "execution_count": 96,
   "id": "cac5869e",
   "metadata": {},
   "outputs": [
    {
     "data": {
      "text/plain": [
       "'8.8/10'"
      ]
     },
     "execution_count": 96,
     "metadata": {},
     "output_type": "execute_result"
    }
   ],
   "source": [
    "user = game.find_all(\"p\")[1].text.strip(\"User score:\")\n",
    "user = user[-6:]\n",
    "user"
   ]
  },
  {
   "cell_type": "code",
   "execution_count": 134,
   "id": "f8c7d673",
   "metadata": {},
   "outputs": [],
   "source": [
    "data = []\n",
    "\n",
    "for game in games:\n",
    "    name = game.find(\"h2\", {\"class\": \"slide-title-text\"}).text[3:]\n",
    "    \n",
    "    critic = game.find(\"p\").text.strip(\"Critic score:\")[-6:]\n",
    "    user = game.find_all(\"p\")[1].text.strip(\"User score:\")[-6:]\n",
    "   \n",
    "    \n",
    "    info = {\"Name\":name, \"Critic\":critic, \"User\": user}\n",
    "    data.append(info)"
   ]
  },
  {
   "cell_type": "code",
   "execution_count": 135,
   "id": "240027ce",
   "metadata": {
    "scrolled": true
   },
   "outputs": [
    {
     "name": "stdout",
     "output_type": "stream",
     "text": [
      "{'Name': ' \"World of Goo\"', 'Critic': '94/100', 'User': '8.8/10'}\n",
      "{'Name': ' \"Metal Gear Solid V: The Phantom Pain\"', 'Critic': '95/100', 'User': '7.4/10'}\n",
      "{'Name': ' \"Portal 2\"', 'Critic': '95/100', 'User': '8.4/10'}\n",
      "{'Name': ' \"Persona 5 Royal\"', 'Critic': '95/100', 'User': '8.4/10'}\n",
      "{'Name': ' \"Madden NFL 2003\"', 'Critic': '95/100', 'User': '7.5/10'}\n",
      "{'Name': ' \"The Last of Us\"', 'Critic': '95/100', 'User': '9.2/10'}\n",
      "{'Name': ' \"The Legend of Zelda: Majora\\'s Mask\"', 'Critic': '95/100', 'User': '9.2/10'}\n",
      "{'Name': ' \"The Legend of Zelda: A Link to the Past\"', 'Critic': '95/100', 'User': '9.0/10'}\n",
      "{'Name': ' \"Halo 2\"', 'Critic': '95/100', 'User': '8.2/10'}\n",
      "{'Name': ' \"Gran Turismo 3: A-Spec\"', 'Critic': '95/100', 'User': '8.5/10'}\n",
      "{'Name': ' \"Red Dead Redemption\"', 'Critic': '95/100', 'User': '8.9/10'}\n",
      "{'Name': ' \"The Legend of Zelda: Collector\\'s Edition\"', 'Critic': '95/100', 'User': '9.0/10'}\n",
      "{'Name': ' \"LittleBigPlanet\"', 'Critic': '95/100', 'User': '6.8/10'}\n",
      "{'Name': ' \"Grand Theft Auto: Vice City\"', 'Critic': '95/100', 'User': '8.7/10'}\n",
      "{'Name': ' \"Grand Theft Auto: San Andreas\"', 'Critic': '95/100', 'User': '9.0/10'}\n",
      "{'Name': ' \"Baldur\\'s Gate II: Shadows of Amn\"', 'Critic': '95/100', 'User': '9.2/10'}\n",
      "{'Name': ' \"Metal Gear Solid 2: Sons of Liberty\"', 'Critic': '96/100', 'User': '8.8/10'}\n",
      "{'Name': ' \"Gran Turismo\"', 'Critic': '96/100', 'User': '8.6/10'}\n",
      "{'Name': ' \"The Legend of Zelda: The Wind Waker\"', 'Critic': '96/100', 'User': '9.0/10'}\n",
      "{'Name': ' \"Half-Life\"', 'Critic': '96/100', 'User': '9.0/10'}\n",
      "{'Name': ' \"The Elder Scrolls V: Skyrim\"', 'Critic': '96/100', 'User': '8.5/10'}\n",
      "{'Name': ' \"The Legend of Zelda: Twilight Princess\"', 'Critic': '96/100', 'User': '9.1/10'}\n",
      "{'Name': ' \"The House in Fata Morgana - Dreams of the Revenants Edition\"', 'Critic': '96/100', 'User': '8.4/10'}\n",
      "{'Name': ' \"Mass Effect 2\"', 'Critic': '96/100', 'User': '8.9/10'}\n",
      "{'Name': ' \"Tekken 3\"', 'Critic': '96/100', 'User': '9.1/10'}\n",
      "{'Name': ' \"Batman: Arkham City\"', 'Critic': '96/100', 'User': '8.7/10'}\n",
      "{'Name': ' \"The Orange Box\"', 'Critic': '96/100', 'User': '9.2/10'}\n",
      "{'Name': ' \"Resident Evil 4\"', 'Critic': '96/100', 'User': '9.4/10'}\n",
      "{'Name': ' \"Uncharted 2: Among Thieves\"', 'Critic': '96/100', 'User': '8.8/10'}\n",
      "{'Name': ' \"GoldenEye 007\"', 'Critic': '96/100', 'User': '9.1/10'}\n",
      "{'Name': ' \"BioShock\"', 'Critic': '96/100', 'User': '8.9/10'}\n",
      "{'Name': ' \"Half-Life 2\"', 'Critic': '96/100', 'User': '9.2/10'}\n",
      "{'Name': ' \"NFL 2K1\"', 'Critic': '97/100', 'User': '6.3/10'}\n",
      "{'Name': ' \"Elden Ring\"', 'Critic': '97/100', 'User': '7.8/10'}\n",
      "{'Name': ' \"Halo: Combat Evolved\"', 'Critic': '97/100', 'User': '8.6/10'}\n",
      "{'Name': ' \"Super Mario Odyssey\"', 'Critic': '97/100', 'User': '9.0/10'}\n",
      "{'Name': ' \"Grand Theft Auto III\"', 'Critic': '97/100', 'User': '8.5/10'}\n",
      "{'Name': ' \"Metroid Prime\"', 'Critic': '97/100', 'User': '9.3/10'}\n",
      "{'Name': ' \"Perfect Dark\"', 'Critic': '97/100', 'User': '9.0/10'}\n",
      "{'Name': ' \"Tony Hawk\\'s Pro Skater 3\"', 'Critic': '97/100', 'User': '7.4/10'}\n",
      "{'Name': ' \"The Legend of Zelda: Breath of the Wild\"', 'Critic': '97/100', 'User': '8.4/10'}\n",
      "{'Name': '\"Disco Elysium: The Final Cut\"', 'Critic': '97/100', 'User': '8.3/10'}\n",
      "{'Name': '\"Grand Theft Auto V\"', 'Critic': '96/100', 'User': '7.8/10'}\n",
      "{'Name': '\"Red Dead Redemption 2\"', 'Critic': '97/100', 'User': '7.7/10'}\n",
      "{'Name': '\"Super Mario Galaxy 2\"', 'Critic': '97/100', 'User': '9.1/10'}\n",
      "{'Name': '\"Super Mario Galaxy\"', 'Critic': '97/100', 'User': '9.0/10'}\n",
      "{'Name': '\"SoulCalibur\"', 'Critic': '98/100', 'User': '8.6/10'}\n",
      "{'Name': '\"Grand Theft Auto IV\"', 'Critic': '98/100', 'User': '7.5/10'}\n",
      "{'Name': '\"Tony Hawk\\'s Pro Skater 2\"', 'Critic': '98/100', 'User': '7.4/10'}\n",
      "{'Name': '\"The Legend of Zelda: Ocarina of Time\"', 'Critic': '99/100', 'User': '9.2/10'}\n"
     ]
    }
   ],
   "source": [
    "\n",
    "for x in range(1, 51):\n",
    "    print(data[x]) "
   ]
  },
  {
   "cell_type": "code",
   "execution_count": 136,
   "id": "3ac5747e",
   "metadata": {},
   "outputs": [
    {
     "data": {
      "text/html": [
       "<div>\n",
       "<style scoped>\n",
       "    .dataframe tbody tr th:only-of-type {\n",
       "        vertical-align: middle;\n",
       "    }\n",
       "\n",
       "    .dataframe tbody tr th {\n",
       "        vertical-align: top;\n",
       "    }\n",
       "\n",
       "    .dataframe thead th {\n",
       "        text-align: right;\n",
       "    }\n",
       "</style>\n",
       "<table border=\"1\" class=\"dataframe\">\n",
       "  <thead>\n",
       "    <tr style=\"text-align: right;\">\n",
       "      <th></th>\n",
       "      <th>Name</th>\n",
       "      <th>Critic</th>\n",
       "      <th>User</th>\n",
       "    </tr>\n",
       "  </thead>\n",
       "  <tbody>\n",
       "    <tr>\n",
       "      <th>0</th>\n",
       "      <td>quick disclaimer!</td>\n",
       "      <td>list.</td>\n",
       "      <td>ll tim</td>\n",
       "    </tr>\n",
       "    <tr>\n",
       "      <th>1</th>\n",
       "      <td>\"World of Goo\"</td>\n",
       "      <td>94/100</td>\n",
       "      <td>8.8/10</td>\n",
       "    </tr>\n",
       "    <tr>\n",
       "      <th>2</th>\n",
       "      <td>\"Metal Gear Solid V: The Phantom Pain\"</td>\n",
       "      <td>95/100</td>\n",
       "      <td>7.4/10</td>\n",
       "    </tr>\n",
       "    <tr>\n",
       "      <th>3</th>\n",
       "      <td>\"Portal 2\"</td>\n",
       "      <td>95/100</td>\n",
       "      <td>8.4/10</td>\n",
       "    </tr>\n",
       "    <tr>\n",
       "      <th>4</th>\n",
       "      <td>\"Persona 5 Royal\"</td>\n",
       "      <td>95/100</td>\n",
       "      <td>8.4/10</td>\n",
       "    </tr>\n",
       "    <tr>\n",
       "      <th>5</th>\n",
       "      <td>\"Madden NFL 2003\"</td>\n",
       "      <td>95/100</td>\n",
       "      <td>7.5/10</td>\n",
       "    </tr>\n",
       "    <tr>\n",
       "      <th>6</th>\n",
       "      <td>\"The Last of Us\"</td>\n",
       "      <td>95/100</td>\n",
       "      <td>9.2/10</td>\n",
       "    </tr>\n",
       "    <tr>\n",
       "      <th>7</th>\n",
       "      <td>\"The Legend of Zelda: Majora's Mask\"</td>\n",
       "      <td>95/100</td>\n",
       "      <td>9.2/10</td>\n",
       "    </tr>\n",
       "    <tr>\n",
       "      <th>8</th>\n",
       "      <td>\"The Legend of Zelda: A Link to the Past\"</td>\n",
       "      <td>95/100</td>\n",
       "      <td>9.0/10</td>\n",
       "    </tr>\n",
       "    <tr>\n",
       "      <th>9</th>\n",
       "      <td>\"Halo 2\"</td>\n",
       "      <td>95/100</td>\n",
       "      <td>8.2/10</td>\n",
       "    </tr>\n",
       "    <tr>\n",
       "      <th>10</th>\n",
       "      <td>\"Gran Turismo 3: A-Spec\"</td>\n",
       "      <td>95/100</td>\n",
       "      <td>8.5/10</td>\n",
       "    </tr>\n",
       "    <tr>\n",
       "      <th>11</th>\n",
       "      <td>\"Red Dead Redemption\"</td>\n",
       "      <td>95/100</td>\n",
       "      <td>8.9/10</td>\n",
       "    </tr>\n",
       "    <tr>\n",
       "      <th>12</th>\n",
       "      <td>\"The Legend of Zelda: Collector's Edition\"</td>\n",
       "      <td>95/100</td>\n",
       "      <td>9.0/10</td>\n",
       "    </tr>\n",
       "    <tr>\n",
       "      <th>13</th>\n",
       "      <td>\"LittleBigPlanet\"</td>\n",
       "      <td>95/100</td>\n",
       "      <td>6.8/10</td>\n",
       "    </tr>\n",
       "    <tr>\n",
       "      <th>14</th>\n",
       "      <td>\"Grand Theft Auto: Vice City\"</td>\n",
       "      <td>95/100</td>\n",
       "      <td>8.7/10</td>\n",
       "    </tr>\n",
       "    <tr>\n",
       "      <th>15</th>\n",
       "      <td>\"Grand Theft Auto: San Andreas\"</td>\n",
       "      <td>95/100</td>\n",
       "      <td>9.0/10</td>\n",
       "    </tr>\n",
       "    <tr>\n",
       "      <th>16</th>\n",
       "      <td>\"Baldur's Gate II: Shadows of Amn\"</td>\n",
       "      <td>95/100</td>\n",
       "      <td>9.2/10</td>\n",
       "    </tr>\n",
       "    <tr>\n",
       "      <th>17</th>\n",
       "      <td>\"Metal Gear Solid 2: Sons of Liberty\"</td>\n",
       "      <td>96/100</td>\n",
       "      <td>8.8/10</td>\n",
       "    </tr>\n",
       "    <tr>\n",
       "      <th>18</th>\n",
       "      <td>\"Gran Turismo\"</td>\n",
       "      <td>96/100</td>\n",
       "      <td>8.6/10</td>\n",
       "    </tr>\n",
       "    <tr>\n",
       "      <th>19</th>\n",
       "      <td>\"The Legend of Zelda: The Wind Waker\"</td>\n",
       "      <td>96/100</td>\n",
       "      <td>9.0/10</td>\n",
       "    </tr>\n",
       "    <tr>\n",
       "      <th>20</th>\n",
       "      <td>\"Half-Life\"</td>\n",
       "      <td>96/100</td>\n",
       "      <td>9.0/10</td>\n",
       "    </tr>\n",
       "    <tr>\n",
       "      <th>21</th>\n",
       "      <td>\"The Elder Scrolls V: Skyrim\"</td>\n",
       "      <td>96/100</td>\n",
       "      <td>8.5/10</td>\n",
       "    </tr>\n",
       "    <tr>\n",
       "      <th>22</th>\n",
       "      <td>\"The Legend of Zelda: Twilight Princess\"</td>\n",
       "      <td>96/100</td>\n",
       "      <td>9.1/10</td>\n",
       "    </tr>\n",
       "    <tr>\n",
       "      <th>23</th>\n",
       "      <td>\"The House in Fata Morgana - Dreams of the Re...</td>\n",
       "      <td>96/100</td>\n",
       "      <td>8.4/10</td>\n",
       "    </tr>\n",
       "    <tr>\n",
       "      <th>24</th>\n",
       "      <td>\"Mass Effect 2\"</td>\n",
       "      <td>96/100</td>\n",
       "      <td>8.9/10</td>\n",
       "    </tr>\n",
       "    <tr>\n",
       "      <th>25</th>\n",
       "      <td>\"Tekken 3\"</td>\n",
       "      <td>96/100</td>\n",
       "      <td>9.1/10</td>\n",
       "    </tr>\n",
       "    <tr>\n",
       "      <th>26</th>\n",
       "      <td>\"Batman: Arkham City\"</td>\n",
       "      <td>96/100</td>\n",
       "      <td>8.7/10</td>\n",
       "    </tr>\n",
       "    <tr>\n",
       "      <th>27</th>\n",
       "      <td>\"The Orange Box\"</td>\n",
       "      <td>96/100</td>\n",
       "      <td>9.2/10</td>\n",
       "    </tr>\n",
       "    <tr>\n",
       "      <th>28</th>\n",
       "      <td>\"Resident Evil 4\"</td>\n",
       "      <td>96/100</td>\n",
       "      <td>9.4/10</td>\n",
       "    </tr>\n",
       "    <tr>\n",
       "      <th>29</th>\n",
       "      <td>\"Uncharted 2: Among Thieves\"</td>\n",
       "      <td>96/100</td>\n",
       "      <td>8.8/10</td>\n",
       "    </tr>\n",
       "    <tr>\n",
       "      <th>30</th>\n",
       "      <td>\"GoldenEye 007\"</td>\n",
       "      <td>96/100</td>\n",
       "      <td>9.1/10</td>\n",
       "    </tr>\n",
       "    <tr>\n",
       "      <th>31</th>\n",
       "      <td>\"BioShock\"</td>\n",
       "      <td>96/100</td>\n",
       "      <td>8.9/10</td>\n",
       "    </tr>\n",
       "    <tr>\n",
       "      <th>32</th>\n",
       "      <td>\"Half-Life 2\"</td>\n",
       "      <td>96/100</td>\n",
       "      <td>9.2/10</td>\n",
       "    </tr>\n",
       "    <tr>\n",
       "      <th>33</th>\n",
       "      <td>\"NFL 2K1\"</td>\n",
       "      <td>97/100</td>\n",
       "      <td>6.3/10</td>\n",
       "    </tr>\n",
       "    <tr>\n",
       "      <th>34</th>\n",
       "      <td>\"Elden Ring\"</td>\n",
       "      <td>97/100</td>\n",
       "      <td>7.8/10</td>\n",
       "    </tr>\n",
       "    <tr>\n",
       "      <th>35</th>\n",
       "      <td>\"Halo: Combat Evolved\"</td>\n",
       "      <td>97/100</td>\n",
       "      <td>8.6/10</td>\n",
       "    </tr>\n",
       "    <tr>\n",
       "      <th>36</th>\n",
       "      <td>\"Super Mario Odyssey\"</td>\n",
       "      <td>97/100</td>\n",
       "      <td>9.0/10</td>\n",
       "    </tr>\n",
       "    <tr>\n",
       "      <th>37</th>\n",
       "      <td>\"Grand Theft Auto III\"</td>\n",
       "      <td>97/100</td>\n",
       "      <td>8.5/10</td>\n",
       "    </tr>\n",
       "    <tr>\n",
       "      <th>38</th>\n",
       "      <td>\"Metroid Prime\"</td>\n",
       "      <td>97/100</td>\n",
       "      <td>9.3/10</td>\n",
       "    </tr>\n",
       "    <tr>\n",
       "      <th>39</th>\n",
       "      <td>\"Perfect Dark\"</td>\n",
       "      <td>97/100</td>\n",
       "      <td>9.0/10</td>\n",
       "    </tr>\n",
       "    <tr>\n",
       "      <th>40</th>\n",
       "      <td>\"Tony Hawk's Pro Skater 3\"</td>\n",
       "      <td>97/100</td>\n",
       "      <td>7.4/10</td>\n",
       "    </tr>\n",
       "    <tr>\n",
       "      <th>41</th>\n",
       "      <td>\"The Legend of Zelda: Breath of the Wild\"</td>\n",
       "      <td>97/100</td>\n",
       "      <td>8.4/10</td>\n",
       "    </tr>\n",
       "    <tr>\n",
       "      <th>42</th>\n",
       "      <td>\"Disco Elysium: The Final Cut\"</td>\n",
       "      <td>97/100</td>\n",
       "      <td>8.3/10</td>\n",
       "    </tr>\n",
       "    <tr>\n",
       "      <th>43</th>\n",
       "      <td>\"Grand Theft Auto V\"</td>\n",
       "      <td>96/100</td>\n",
       "      <td>7.8/10</td>\n",
       "    </tr>\n",
       "    <tr>\n",
       "      <th>44</th>\n",
       "      <td>\"Red Dead Redemption 2\"</td>\n",
       "      <td>97/100</td>\n",
       "      <td>7.7/10</td>\n",
       "    </tr>\n",
       "    <tr>\n",
       "      <th>45</th>\n",
       "      <td>\"Super Mario Galaxy 2\"</td>\n",
       "      <td>97/100</td>\n",
       "      <td>9.1/10</td>\n",
       "    </tr>\n",
       "    <tr>\n",
       "      <th>46</th>\n",
       "      <td>\"Super Mario Galaxy\"</td>\n",
       "      <td>97/100</td>\n",
       "      <td>9.0/10</td>\n",
       "    </tr>\n",
       "    <tr>\n",
       "      <th>47</th>\n",
       "      <td>\"SoulCalibur\"</td>\n",
       "      <td>98/100</td>\n",
       "      <td>8.6/10</td>\n",
       "    </tr>\n",
       "    <tr>\n",
       "      <th>48</th>\n",
       "      <td>\"Grand Theft Auto IV\"</td>\n",
       "      <td>98/100</td>\n",
       "      <td>7.5/10</td>\n",
       "    </tr>\n",
       "    <tr>\n",
       "      <th>49</th>\n",
       "      <td>\"Tony Hawk's Pro Skater 2\"</td>\n",
       "      <td>98/100</td>\n",
       "      <td>7.4/10</td>\n",
       "    </tr>\n",
       "    <tr>\n",
       "      <th>50</th>\n",
       "      <td>\"The Legend of Zelda: Ocarina of Time\"</td>\n",
       "      <td>99/100</td>\n",
       "      <td>9.2/10</td>\n",
       "    </tr>\n",
       "  </tbody>\n",
       "</table>\n",
       "</div>"
      ],
      "text/plain": [
       "                                                 Name  Critic    User\n",
       "0                                   quick disclaimer!   list.  ll tim\n",
       "1                                      \"World of Goo\"  94/100  8.8/10\n",
       "2              \"Metal Gear Solid V: The Phantom Pain\"  95/100  7.4/10\n",
       "3                                          \"Portal 2\"  95/100  8.4/10\n",
       "4                                   \"Persona 5 Royal\"  95/100  8.4/10\n",
       "5                                   \"Madden NFL 2003\"  95/100  7.5/10\n",
       "6                                    \"The Last of Us\"  95/100  9.2/10\n",
       "7                \"The Legend of Zelda: Majora's Mask\"  95/100  9.2/10\n",
       "8           \"The Legend of Zelda: A Link to the Past\"  95/100  9.0/10\n",
       "9                                            \"Halo 2\"  95/100  8.2/10\n",
       "10                           \"Gran Turismo 3: A-Spec\"  95/100  8.5/10\n",
       "11                              \"Red Dead Redemption\"  95/100  8.9/10\n",
       "12         \"The Legend of Zelda: Collector's Edition\"  95/100  9.0/10\n",
       "13                                  \"LittleBigPlanet\"  95/100  6.8/10\n",
       "14                      \"Grand Theft Auto: Vice City\"  95/100  8.7/10\n",
       "15                    \"Grand Theft Auto: San Andreas\"  95/100  9.0/10\n",
       "16                 \"Baldur's Gate II: Shadows of Amn\"  95/100  9.2/10\n",
       "17              \"Metal Gear Solid 2: Sons of Liberty\"  96/100  8.8/10\n",
       "18                                     \"Gran Turismo\"  96/100  8.6/10\n",
       "19              \"The Legend of Zelda: The Wind Waker\"  96/100  9.0/10\n",
       "20                                        \"Half-Life\"  96/100  9.0/10\n",
       "21                      \"The Elder Scrolls V: Skyrim\"  96/100  8.5/10\n",
       "22           \"The Legend of Zelda: Twilight Princess\"  96/100  9.1/10\n",
       "23   \"The House in Fata Morgana - Dreams of the Re...  96/100  8.4/10\n",
       "24                                    \"Mass Effect 2\"  96/100  8.9/10\n",
       "25                                         \"Tekken 3\"  96/100  9.1/10\n",
       "26                              \"Batman: Arkham City\"  96/100  8.7/10\n",
       "27                                   \"The Orange Box\"  96/100  9.2/10\n",
       "28                                  \"Resident Evil 4\"  96/100  9.4/10\n",
       "29                       \"Uncharted 2: Among Thieves\"  96/100  8.8/10\n",
       "30                                    \"GoldenEye 007\"  96/100  9.1/10\n",
       "31                                         \"BioShock\"  96/100  8.9/10\n",
       "32                                      \"Half-Life 2\"  96/100  9.2/10\n",
       "33                                          \"NFL 2K1\"  97/100  6.3/10\n",
       "34                                       \"Elden Ring\"  97/100  7.8/10\n",
       "35                             \"Halo: Combat Evolved\"  97/100  8.6/10\n",
       "36                              \"Super Mario Odyssey\"  97/100  9.0/10\n",
       "37                             \"Grand Theft Auto III\"  97/100  8.5/10\n",
       "38                                    \"Metroid Prime\"  97/100  9.3/10\n",
       "39                                     \"Perfect Dark\"  97/100  9.0/10\n",
       "40                         \"Tony Hawk's Pro Skater 3\"  97/100  7.4/10\n",
       "41          \"The Legend of Zelda: Breath of the Wild\"  97/100  8.4/10\n",
       "42                     \"Disco Elysium: The Final Cut\"  97/100  8.3/10\n",
       "43                               \"Grand Theft Auto V\"  96/100  7.8/10\n",
       "44                            \"Red Dead Redemption 2\"  97/100  7.7/10\n",
       "45                             \"Super Mario Galaxy 2\"  97/100  9.1/10\n",
       "46                               \"Super Mario Galaxy\"  97/100  9.0/10\n",
       "47                                      \"SoulCalibur\"  98/100  8.6/10\n",
       "48                              \"Grand Theft Auto IV\"  98/100  7.5/10\n",
       "49                         \"Tony Hawk's Pro Skater 2\"  98/100  7.4/10\n",
       "50             \"The Legend of Zelda: Ocarina of Time\"  99/100  9.2/10"
      ]
     },
     "execution_count": 136,
     "metadata": {},
     "output_type": "execute_result"
    }
   ],
   "source": [
    "df = pd.DataFrame(data)\n",
    "df"
   ]
  },
  {
   "cell_type": "code",
   "execution_count": 98,
   "id": "c701cd32",
   "metadata": {},
   "outputs": [
    {
     "ename": "AttributeError",
     "evalue": "ResultSet object has no attribute 'text'. You're probably treating a list of elements like a single element. Did you call find_all() when you meant to call find()?",
     "output_type": "error",
     "traceback": [
      "\u001b[0;31m---------------------------------------------------------------------------\u001b[0m",
      "\u001b[0;31mAttributeError\u001b[0m                            Traceback (most recent call last)",
      "\u001b[0;32m<ipython-input-98-15911e6d57d2>\u001b[0m in \u001b[0;36m<module>\u001b[0;34m\u001b[0m\n\u001b[0;32m----> 1\u001b[0;31m \u001b[0mgames\u001b[0m \u001b[0;34m=\u001b[0m \u001b[0mgame_soup\u001b[0m\u001b[0;34m.\u001b[0m\u001b[0mfind_all\u001b[0m\u001b[0;34m(\u001b[0m\u001b[0;34m\"h2\"\u001b[0m\u001b[0;34m,\u001b[0m \u001b[0;34m{\u001b[0m\u001b[0;34m\"class\"\u001b[0m\u001b[0;34m:\u001b[0m \u001b[0;34m\"slide-title-text\"\u001b[0m\u001b[0;34m}\u001b[0m\u001b[0;34m)\u001b[0m\u001b[0;34m.\u001b[0m\u001b[0mtext\u001b[0m\u001b[0;34m.\u001b[0m\u001b[0mstrip\u001b[0m\u001b[0;34m(\u001b[0m\u001b[0;34m)\u001b[0m\u001b[0;34m\u001b[0m\u001b[0;34m\u001b[0m\u001b[0m\n\u001b[0m\u001b[1;32m      2\u001b[0m \u001b[0mgame\u001b[0m \u001b[0;34m=\u001b[0m \u001b[0mgames\u001b[0m\u001b[0;34m[\u001b[0m\u001b[0;36m1\u001b[0m\u001b[0;34m]\u001b[0m\u001b[0;34m\u001b[0m\u001b[0;34m\u001b[0m\u001b[0m\n\u001b[1;32m      3\u001b[0m \u001b[0mprint\u001b[0m\u001b[0;34m(\u001b[0m\u001b[0mgame\u001b[0m\u001b[0;34m)\u001b[0m\u001b[0;34m\u001b[0m\u001b[0;34m\u001b[0m\u001b[0m\n",
      "\u001b[0;32m/opt/anaconda3/lib/python3.8/site-packages/bs4/element.py\u001b[0m in \u001b[0;36m__getattr__\u001b[0;34m(self, key)\u001b[0m\n\u001b[1;32m   2171\u001b[0m     \u001b[0;32mdef\u001b[0m \u001b[0m__getattr__\u001b[0m\u001b[0;34m(\u001b[0m\u001b[0mself\u001b[0m\u001b[0;34m,\u001b[0m \u001b[0mkey\u001b[0m\u001b[0;34m)\u001b[0m\u001b[0;34m:\u001b[0m\u001b[0;34m\u001b[0m\u001b[0;34m\u001b[0m\u001b[0m\n\u001b[1;32m   2172\u001b[0m         \u001b[0;34m\"\"\"Raise a helpful exception to explain a common code fix.\"\"\"\u001b[0m\u001b[0;34m\u001b[0m\u001b[0;34m\u001b[0m\u001b[0m\n\u001b[0;32m-> 2173\u001b[0;31m         raise AttributeError(\n\u001b[0m\u001b[1;32m   2174\u001b[0m             \u001b[0;34m\"ResultSet object has no attribute '%s'. You're probably treating a list of elements like a single element. Did you call find_all() when you meant to call find()?\"\u001b[0m \u001b[0;34m%\u001b[0m \u001b[0mkey\u001b[0m\u001b[0;34m\u001b[0m\u001b[0;34m\u001b[0m\u001b[0m\n\u001b[1;32m   2175\u001b[0m         )\n",
      "\u001b[0;31mAttributeError\u001b[0m: ResultSet object has no attribute 'text'. You're probably treating a list of elements like a single element. Did you call find_all() when you meant to call find()?"
     ]
    }
   ],
   "source": [
    "games = game_soup.find_all(\"h2\", {\"class\": \"slide-title-text\"}).text.strip()\n",
    "game = games[1]\n",
    "print(game)"
   ]
  },
  {
   "cell_type": "code",
   "execution_count": null,
   "id": "df2c754f",
   "metadata": {},
   "outputs": [],
   "source": []
  },
  {
   "cell_type": "code",
   "execution_count": null,
   "id": "1c4cce89",
   "metadata": {},
   "outputs": [],
   "source": []
  },
  {
   "cell_type": "code",
   "execution_count": 36,
   "id": "c7770fd1",
   "metadata": {},
   "outputs": [
    {
     "name": "stdout",
     "output_type": "stream",
     "text": [
      "<p><strong>Plot summary (<a data-analytics-module=\"body_link\" href=\"http://www.metacritic.com/game/pc/half-life\">from Metacritic</a>):</strong> \"'Half-Life' combines great storytelling in the tradition of Stephen King with intense action and advanced technology to create a frighteningly realistic world where players need to think smart to survive. 'Half-Life' has won more than 50 Game of the Year awards from publications around the world, and was named 'Best PC Game Ever' in PC Gamer's November 1999 issue.\"</p>\n"
     ]
    }
   ],
   "source": [
    "critics = game_soup.find_all('p')\n",
    "critic = critics[100]\n",
    "print(critic)"
   ]
  },
  {
   "cell_type": "code",
   "execution_count": null,
   "id": "e92c5da7",
   "metadata": {},
   "outputs": [],
   "source": []
  },
  {
   "cell_type": "code",
   "execution_count": null,
   "id": "23ca35c2",
   "metadata": {},
   "outputs": [],
   "source": []
  },
  {
   "cell_type": "code",
   "execution_count": null,
   "id": "dcf28e84",
   "metadata": {},
   "outputs": [],
   "source": []
  },
  {
   "cell_type": "code",
   "execution_count": null,
   "id": "311e47aa",
   "metadata": {},
   "outputs": [],
   "source": []
  },
  {
   "cell_type": "code",
   "execution_count": null,
   "id": "96f7c70e",
   "metadata": {},
   "outputs": [],
   "source": []
  },
  {
   "cell_type": "code",
   "execution_count": null,
   "id": "079e7b57",
   "metadata": {},
   "outputs": [],
   "source": []
  },
  {
   "cell_type": "code",
   "execution_count": null,
   "id": "5aa2991d",
   "metadata": {},
   "outputs": [],
   "source": []
  }
 ],
 "metadata": {
  "kernelspec": {
   "display_name": "Python 3",
   "language": "python",
   "name": "python3"
  },
  "language_info": {
   "codemirror_mode": {
    "name": "ipython",
    "version": 3
   },
   "file_extension": ".py",
   "mimetype": "text/x-python",
   "name": "python",
   "nbconvert_exporter": "python",
   "pygments_lexer": "ipython3",
   "version": "3.8.8"
  }
 },
 "nbformat": 4,
 "nbformat_minor": 5
}
